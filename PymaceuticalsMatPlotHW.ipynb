{
 "cells": [
  {
   "cell_type": "markdown",
   "metadata": {},
   "source": [
    "## Observations and Insights "
   ]
  },
  {
   "cell_type": "markdown",
   "metadata": {},
   "source": []
  },
  {
   "cell_type": "code",
   "execution_count": 8,
   "metadata": {},
   "outputs": [],
   "source": [
    "%matplotlib inline"
   ]
  },
  {
   "cell_type": "code",
   "execution_count": 9,
   "metadata": {},
   "outputs": [
    {
     "data": {
      "text/html": [
       "<div>\n",
       "<style scoped>\n",
       "    .dataframe tbody tr th:only-of-type {\n",
       "        vertical-align: middle;\n",
       "    }\n",
       "\n",
       "    .dataframe tbody tr th {\n",
       "        vertical-align: top;\n",
       "    }\n",
       "\n",
       "    .dataframe thead th {\n",
       "        text-align: right;\n",
       "    }\n",
       "</style>\n",
       "<table border=\"1\" class=\"dataframe\">\n",
       "  <thead>\n",
       "    <tr style=\"text-align: right;\">\n",
       "      <th></th>\n",
       "      <th>Mouse ID</th>\n",
       "      <th>Timepoint</th>\n",
       "      <th>Tumor Volume (mm3)</th>\n",
       "      <th>Metastatic Sites</th>\n",
       "      <th>Drug Regimen</th>\n",
       "      <th>Sex</th>\n",
       "      <th>Age_months</th>\n",
       "      <th>Weight (g)</th>\n",
       "    </tr>\n",
       "  </thead>\n",
       "  <tbody>\n",
       "    <tr>\n",
       "      <th>0</th>\n",
       "      <td>b128</td>\n",
       "      <td>0</td>\n",
       "      <td>45.0</td>\n",
       "      <td>0</td>\n",
       "      <td>Capomulin</td>\n",
       "      <td>Female</td>\n",
       "      <td>9</td>\n",
       "      <td>22</td>\n",
       "    </tr>\n",
       "    <tr>\n",
       "      <th>1</th>\n",
       "      <td>f932</td>\n",
       "      <td>0</td>\n",
       "      <td>45.0</td>\n",
       "      <td>0</td>\n",
       "      <td>Ketapril</td>\n",
       "      <td>Male</td>\n",
       "      <td>15</td>\n",
       "      <td>29</td>\n",
       "    </tr>\n",
       "    <tr>\n",
       "      <th>2</th>\n",
       "      <td>g107</td>\n",
       "      <td>0</td>\n",
       "      <td>45.0</td>\n",
       "      <td>0</td>\n",
       "      <td>Ketapril</td>\n",
       "      <td>Female</td>\n",
       "      <td>2</td>\n",
       "      <td>29</td>\n",
       "    </tr>\n",
       "    <tr>\n",
       "      <th>3</th>\n",
       "      <td>a457</td>\n",
       "      <td>0</td>\n",
       "      <td>45.0</td>\n",
       "      <td>0</td>\n",
       "      <td>Ketapril</td>\n",
       "      <td>Female</td>\n",
       "      <td>11</td>\n",
       "      <td>30</td>\n",
       "    </tr>\n",
       "    <tr>\n",
       "      <th>4</th>\n",
       "      <td>c819</td>\n",
       "      <td>0</td>\n",
       "      <td>45.0</td>\n",
       "      <td>0</td>\n",
       "      <td>Ketapril</td>\n",
       "      <td>Male</td>\n",
       "      <td>21</td>\n",
       "      <td>25</td>\n",
       "    </tr>\n",
       "  </tbody>\n",
       "</table>\n",
       "</div>"
      ],
      "text/plain": [
       "  Mouse ID  Timepoint  Tumor Volume (mm3)  Metastatic Sites Drug Regimen  \\\n",
       "0     b128          0                45.0                 0    Capomulin   \n",
       "1     f932          0                45.0                 0     Ketapril   \n",
       "2     g107          0                45.0                 0     Ketapril   \n",
       "3     a457          0                45.0                 0     Ketapril   \n",
       "4     c819          0                45.0                 0     Ketapril   \n",
       "\n",
       "      Sex  Age_months  Weight (g)  \n",
       "0  Female           9          22  \n",
       "1    Male          15          29  \n",
       "2  Female           2          29  \n",
       "3  Female          11          30  \n",
       "4    Male          21          25  "
      ]
     },
     "execution_count": 9,
     "metadata": {},
     "output_type": "execute_result"
    }
   ],
   "source": [
    "# Dependencies and Setup\n",
    "import matplotlib.pyplot as plt\n",
    "import pandas as pd\n",
    "import scipy.stats as st\n",
    "import numpy as np \n",
    "import os\n",
    "\n",
    "# Study data files\n",
    "mouse_metadata_path = \"data/Mouse_metadata.csv\"\n",
    "study_results_path = \"data/Study_results.csv\"\n",
    "\n",
    "# Read the mouse data and the study results\n",
    "mouse_metadata = pd.read_csv(mouse_metadata_path)\n",
    "study_results = pd.read_csv(study_results_path)\n",
    "\n",
    "# Combine the data into a single dataset\n",
    "combined_mouse_df = pd.merge(study_results, mouse_metadata, how=\"left\", on=\"Mouse ID\")\n",
    "combined_mouse_df.head()"
   ]
  },
  {
   "cell_type": "code",
   "execution_count": 10,
   "metadata": {},
   "outputs": [
    {
     "data": {
      "text/plain": [
       "249"
      ]
     },
     "execution_count": 10,
     "metadata": {},
     "output_type": "execute_result"
    }
   ],
   "source": [
    "# Checking the number of mice in the DataFrame.\n",
    "#In this study, 249 mice & 1893 identified with SCC tumor growth were treated through a variety of drug regimens.\n",
    "number_of_mice = len(mouse_metadata[\"Mouse ID\"])\n",
    "number_of_mice"
   ]
  },
  {
   "cell_type": "code",
   "execution_count": 11,
   "metadata": {},
   "outputs": [
    {
     "data": {
      "text/html": [
       "<div>\n",
       "<style scoped>\n",
       "    .dataframe tbody tr th:only-of-type {\n",
       "        vertical-align: middle;\n",
       "    }\n",
       "\n",
       "    .dataframe tbody tr th {\n",
       "        vertical-align: top;\n",
       "    }\n",
       "\n",
       "    .dataframe thead th {\n",
       "        text-align: right;\n",
       "    }\n",
       "</style>\n",
       "<table border=\"1\" class=\"dataframe\">\n",
       "  <thead>\n",
       "    <tr style=\"text-align: right;\">\n",
       "      <th></th>\n",
       "      <th>Mouse ID</th>\n",
       "      <th>Timepoint</th>\n",
       "      <th>Tumor Volume (mm3)</th>\n",
       "      <th>Metastatic Sites</th>\n",
       "      <th>Drug Regimen</th>\n",
       "      <th>Sex</th>\n",
       "      <th>Age_months</th>\n",
       "      <th>Weight (g)</th>\n",
       "    </tr>\n",
       "  </thead>\n",
       "  <tbody>\n",
       "    <tr>\n",
       "      <th>137</th>\n",
       "      <td>g989</td>\n",
       "      <td>0</td>\n",
       "      <td>45.000000</td>\n",
       "      <td>0</td>\n",
       "      <td>Propriva</td>\n",
       "      <td>Female</td>\n",
       "      <td>21</td>\n",
       "      <td>26</td>\n",
       "    </tr>\n",
       "    <tr>\n",
       "      <th>360</th>\n",
       "      <td>g989</td>\n",
       "      <td>5</td>\n",
       "      <td>47.570392</td>\n",
       "      <td>0</td>\n",
       "      <td>Propriva</td>\n",
       "      <td>Female</td>\n",
       "      <td>21</td>\n",
       "      <td>26</td>\n",
       "    </tr>\n",
       "    <tr>\n",
       "      <th>681</th>\n",
       "      <td>g989</td>\n",
       "      <td>10</td>\n",
       "      <td>49.880528</td>\n",
       "      <td>0</td>\n",
       "      <td>Propriva</td>\n",
       "      <td>Female</td>\n",
       "      <td>21</td>\n",
       "      <td>26</td>\n",
       "    </tr>\n",
       "    <tr>\n",
       "      <th>869</th>\n",
       "      <td>g989</td>\n",
       "      <td>15</td>\n",
       "      <td>53.442020</td>\n",
       "      <td>0</td>\n",
       "      <td>Propriva</td>\n",
       "      <td>Female</td>\n",
       "      <td>21</td>\n",
       "      <td>26</td>\n",
       "    </tr>\n",
       "    <tr>\n",
       "      <th>1111</th>\n",
       "      <td>g989</td>\n",
       "      <td>20</td>\n",
       "      <td>54.657650</td>\n",
       "      <td>1</td>\n",
       "      <td>Propriva</td>\n",
       "      <td>Female</td>\n",
       "      <td>21</td>\n",
       "      <td>26</td>\n",
       "    </tr>\n",
       "  </tbody>\n",
       "</table>\n",
       "</div>"
      ],
      "text/plain": [
       "     Mouse ID  Timepoint  Tumor Volume (mm3)  Metastatic Sites Drug Regimen  \\\n",
       "137      g989          0           45.000000                 0     Propriva   \n",
       "360      g989          5           47.570392                 0     Propriva   \n",
       "681      g989         10           49.880528                 0     Propriva   \n",
       "869      g989         15           53.442020                 0     Propriva   \n",
       "1111     g989         20           54.657650                 1     Propriva   \n",
       "\n",
       "         Sex  Age_months  Weight (g)  \n",
       "137   Female          21          26  \n",
       "360   Female          21          26  \n",
       "681   Female          21          26  \n",
       "869   Female          21          26  \n",
       "1111  Female          21          26  "
      ]
     },
     "execution_count": 11,
     "metadata": {},
     "output_type": "execute_result"
    }
   ],
   "source": [
    "# Getting the duplicate mice by ID number that shows up for Mouse ID and Timepoint. \n",
    "# https://thispointer.com/pandas-find-duplicate-rows-in-a-dataframe-based-on-all-or-selected-columns-using-dataframe-duplicated-in-python/\n",
    "# Study Results are showing Mouse ID that is showing to be repeated in both the dataframes are \"g989\"\n",
    "dup_mouse = combined_mouse_df[combined_mouse_df.duplicated(['Mouse ID', 'Timepoint'])]\n",
    "dup_mouse"
   ]
  },
  {
   "cell_type": "code",
   "execution_count": 12,
   "metadata": {},
   "outputs": [
    {
     "data": {
      "text/html": [
       "<div>\n",
       "<style scoped>\n",
       "    .dataframe tbody tr th:only-of-type {\n",
       "        vertical-align: middle;\n",
       "    }\n",
       "\n",
       "    .dataframe tbody tr th {\n",
       "        vertical-align: top;\n",
       "    }\n",
       "\n",
       "    .dataframe thead th {\n",
       "        text-align: right;\n",
       "    }\n",
       "</style>\n",
       "<table border=\"1\" class=\"dataframe\">\n",
       "  <thead>\n",
       "    <tr style=\"text-align: right;\">\n",
       "      <th></th>\n",
       "      <th>Mouse ID</th>\n",
       "      <th>Timepoint</th>\n",
       "      <th>Tumor Volume (mm3)</th>\n",
       "      <th>Metastatic Sites</th>\n",
       "      <th>Drug Regimen</th>\n",
       "      <th>Sex</th>\n",
       "      <th>Age_months</th>\n",
       "      <th>Weight (g)</th>\n",
       "    </tr>\n",
       "  </thead>\n",
       "  <tbody>\n",
       "    <tr>\n",
       "      <th>137</th>\n",
       "      <td>g989</td>\n",
       "      <td>0</td>\n",
       "      <td>45.000000</td>\n",
       "      <td>0</td>\n",
       "      <td>Propriva</td>\n",
       "      <td>Female</td>\n",
       "      <td>21</td>\n",
       "      <td>26</td>\n",
       "    </tr>\n",
       "    <tr>\n",
       "      <th>360</th>\n",
       "      <td>g989</td>\n",
       "      <td>5</td>\n",
       "      <td>47.570392</td>\n",
       "      <td>0</td>\n",
       "      <td>Propriva</td>\n",
       "      <td>Female</td>\n",
       "      <td>21</td>\n",
       "      <td>26</td>\n",
       "    </tr>\n",
       "    <tr>\n",
       "      <th>681</th>\n",
       "      <td>g989</td>\n",
       "      <td>10</td>\n",
       "      <td>49.880528</td>\n",
       "      <td>0</td>\n",
       "      <td>Propriva</td>\n",
       "      <td>Female</td>\n",
       "      <td>21</td>\n",
       "      <td>26</td>\n",
       "    </tr>\n",
       "    <tr>\n",
       "      <th>869</th>\n",
       "      <td>g989</td>\n",
       "      <td>15</td>\n",
       "      <td>53.442020</td>\n",
       "      <td>0</td>\n",
       "      <td>Propriva</td>\n",
       "      <td>Female</td>\n",
       "      <td>21</td>\n",
       "      <td>26</td>\n",
       "    </tr>\n",
       "    <tr>\n",
       "      <th>1111</th>\n",
       "      <td>g989</td>\n",
       "      <td>20</td>\n",
       "      <td>54.657650</td>\n",
       "      <td>1</td>\n",
       "      <td>Propriva</td>\n",
       "      <td>Female</td>\n",
       "      <td>21</td>\n",
       "      <td>26</td>\n",
       "    </tr>\n",
       "  </tbody>\n",
       "</table>\n",
       "</div>"
      ],
      "text/plain": [
       "     Mouse ID  Timepoint  Tumor Volume (mm3)  Metastatic Sites Drug Regimen  \\\n",
       "137      g989          0           45.000000                 0     Propriva   \n",
       "360      g989          5           47.570392                 0     Propriva   \n",
       "681      g989         10           49.880528                 0     Propriva   \n",
       "869      g989         15           53.442020                 0     Propriva   \n",
       "1111     g989         20           54.657650                 1     Propriva   \n",
       "\n",
       "         Sex  Age_months  Weight (g)  \n",
       "137   Female          21          26  \n",
       "360   Female          21          26  \n",
       "681   Female          21          26  \n",
       "869   Female          21          26  \n",
       "1111  Female          21          26  "
      ]
     },
     "execution_count": 12,
     "metadata": {},
     "output_type": "execute_result"
    }
   ],
   "source": [
    "# Optional: Get all the data for the duplicate mouse ID. \n",
    "# Droping Duplicate Mouse ID g989 rows found in duplicated data above\n",
    "# This particular Mouse ID g989 has 13 rows \n",
    "dup_mouse_id = dup_mouse.drop_duplicates()\n",
    "dup_mouse_id"
   ]
  },
  {
   "cell_type": "code",
   "execution_count": 13,
   "metadata": {},
   "outputs": [
    {
     "data": {
      "text/html": [
       "<div>\n",
       "<style scoped>\n",
       "    .dataframe tbody tr th:only-of-type {\n",
       "        vertical-align: middle;\n",
       "    }\n",
       "\n",
       "    .dataframe tbody tr th {\n",
       "        vertical-align: top;\n",
       "    }\n",
       "\n",
       "    .dataframe thead th {\n",
       "        text-align: right;\n",
       "    }\n",
       "</style>\n",
       "<table border=\"1\" class=\"dataframe\">\n",
       "  <thead>\n",
       "    <tr style=\"text-align: right;\">\n",
       "      <th></th>\n",
       "      <th>Mouse ID</th>\n",
       "      <th>Timepoint</th>\n",
       "      <th>Tumor Volume (mm3)</th>\n",
       "      <th>Metastatic Sites</th>\n",
       "      <th>Drug Regimen</th>\n",
       "      <th>Sex</th>\n",
       "      <th>Age_months</th>\n",
       "      <th>Weight (g)</th>\n",
       "    </tr>\n",
       "  </thead>\n",
       "  <tbody>\n",
       "    <tr>\n",
       "      <th>0</th>\n",
       "      <td>b128</td>\n",
       "      <td>0</td>\n",
       "      <td>45.0</td>\n",
       "      <td>0</td>\n",
       "      <td>Capomulin</td>\n",
       "      <td>Female</td>\n",
       "      <td>9</td>\n",
       "      <td>22</td>\n",
       "    </tr>\n",
       "    <tr>\n",
       "      <th>1</th>\n",
       "      <td>f932</td>\n",
       "      <td>0</td>\n",
       "      <td>45.0</td>\n",
       "      <td>0</td>\n",
       "      <td>Ketapril</td>\n",
       "      <td>Male</td>\n",
       "      <td>15</td>\n",
       "      <td>29</td>\n",
       "    </tr>\n",
       "    <tr>\n",
       "      <th>2</th>\n",
       "      <td>g107</td>\n",
       "      <td>0</td>\n",
       "      <td>45.0</td>\n",
       "      <td>0</td>\n",
       "      <td>Ketapril</td>\n",
       "      <td>Female</td>\n",
       "      <td>2</td>\n",
       "      <td>29</td>\n",
       "    </tr>\n",
       "    <tr>\n",
       "      <th>3</th>\n",
       "      <td>a457</td>\n",
       "      <td>0</td>\n",
       "      <td>45.0</td>\n",
       "      <td>0</td>\n",
       "      <td>Ketapril</td>\n",
       "      <td>Female</td>\n",
       "      <td>11</td>\n",
       "      <td>30</td>\n",
       "    </tr>\n",
       "    <tr>\n",
       "      <th>4</th>\n",
       "      <td>c819</td>\n",
       "      <td>0</td>\n",
       "      <td>45.0</td>\n",
       "      <td>0</td>\n",
       "      <td>Ketapril</td>\n",
       "      <td>Male</td>\n",
       "      <td>21</td>\n",
       "      <td>25</td>\n",
       "    </tr>\n",
       "  </tbody>\n",
       "</table>\n",
       "</div>"
      ],
      "text/plain": [
       "  Mouse ID  Timepoint  Tumor Volume (mm3)  Metastatic Sites Drug Regimen  \\\n",
       "0     b128          0                45.0                 0    Capomulin   \n",
       "1     f932          0                45.0                 0     Ketapril   \n",
       "2     g107          0                45.0                 0     Ketapril   \n",
       "3     a457          0                45.0                 0     Ketapril   \n",
       "4     c819          0                45.0                 0     Ketapril   \n",
       "\n",
       "      Sex  Age_months  Weight (g)  \n",
       "0  Female           9          22  \n",
       "1    Male          15          29  \n",
       "2  Female           2          29  \n",
       "3  Female          11          30  \n",
       "4    Male          21          25  "
      ]
     },
     "execution_count": 13,
     "metadata": {},
     "output_type": "execute_result"
    }
   ],
   "source": [
    "# Create a clean DataFrame by dropping the duplicate mouse by its ID.\n",
    "\n",
    "Clean_Mouse_DF = combined_mouse_df.loc[combined_mouse_df['Mouse ID'] != 'g989']     \n",
    "Clean_Mouse_DF = pd.DataFrame(Clean_Mouse_DF)\n",
    "Clean_Mouse_DF.head()"
   ]
  },
  {
   "cell_type": "code",
   "execution_count": 14,
   "metadata": {},
   "outputs": [
    {
     "data": {
      "text/plain": [
       "d251    10\n",
       "c402    10\n",
       "x401    10\n",
       "m650    10\n",
       "w422    10\n",
       "        ..\n",
       "l872     1\n",
       "b447     1\n",
       "o848     1\n",
       "x226     1\n",
       "n482     1\n",
       "Name: Mouse ID, Length: 248, dtype: int64"
      ]
     },
     "execution_count": 14,
     "metadata": {},
     "output_type": "execute_result"
    }
   ],
   "source": [
    "# Checking the number of mice in the clean DataFrame.\n",
    "clean_of_mice = Clean_Mouse_DF[\"Mouse ID\"].value_counts()\n",
    "clean_of_mice"
   ]
  },
  {
   "cell_type": "markdown",
   "metadata": {},
   "source": [
    "## Summary Statistics"
   ]
  },
  {
   "cell_type": "code",
   "execution_count": 15,
   "metadata": {},
   "outputs": [
    {
     "data": {
      "text/html": [
       "<div>\n",
       "<style scoped>\n",
       "    .dataframe tbody tr th:only-of-type {\n",
       "        vertical-align: middle;\n",
       "    }\n",
       "\n",
       "    .dataframe tbody tr th {\n",
       "        vertical-align: top;\n",
       "    }\n",
       "\n",
       "    .dataframe thead th {\n",
       "        text-align: right;\n",
       "    }\n",
       "</style>\n",
       "<table border=\"1\" class=\"dataframe\">\n",
       "  <thead>\n",
       "    <tr style=\"text-align: right;\">\n",
       "      <th></th>\n",
       "      <th>Timepoint</th>\n",
       "      <th>Tumor Volume (mm3)</th>\n",
       "      <th>Metastatic Sites</th>\n",
       "      <th>Age_months</th>\n",
       "      <th>Weight (g)</th>\n",
       "    </tr>\n",
       "  </thead>\n",
       "  <tbody>\n",
       "    <tr>\n",
       "      <th>count</th>\n",
       "      <td>1880.000000</td>\n",
       "      <td>1880.000000</td>\n",
       "      <td>1880.000000</td>\n",
       "      <td>1880.000000</td>\n",
       "      <td>1880.000000</td>\n",
       "    </tr>\n",
       "    <tr>\n",
       "      <th>mean</th>\n",
       "      <td>19.606383</td>\n",
       "      <td>50.435293</td>\n",
       "      <td>1.025000</td>\n",
       "      <td>12.757979</td>\n",
       "      <td>25.660106</td>\n",
       "    </tr>\n",
       "    <tr>\n",
       "      <th>std</th>\n",
       "      <td>14.094238</td>\n",
       "      <td>8.914197</td>\n",
       "      <td>1.139971</td>\n",
       "      <td>7.181998</td>\n",
       "      <td>3.935064</td>\n",
       "    </tr>\n",
       "    <tr>\n",
       "      <th>min</th>\n",
       "      <td>0.000000</td>\n",
       "      <td>22.050126</td>\n",
       "      <td>0.000000</td>\n",
       "      <td>1.000000</td>\n",
       "      <td>15.000000</td>\n",
       "    </tr>\n",
       "    <tr>\n",
       "      <th>25%</th>\n",
       "      <td>5.000000</td>\n",
       "      <td>45.000000</td>\n",
       "      <td>0.000000</td>\n",
       "      <td>7.000000</td>\n",
       "      <td>25.000000</td>\n",
       "    </tr>\n",
       "    <tr>\n",
       "      <th>50%</th>\n",
       "      <td>20.000000</td>\n",
       "      <td>48.933454</td>\n",
       "      <td>1.000000</td>\n",
       "      <td>13.000000</td>\n",
       "      <td>27.000000</td>\n",
       "    </tr>\n",
       "    <tr>\n",
       "      <th>75%</th>\n",
       "      <td>30.000000</td>\n",
       "      <td>56.324075</td>\n",
       "      <td>2.000000</td>\n",
       "      <td>19.250000</td>\n",
       "      <td>29.000000</td>\n",
       "    </tr>\n",
       "    <tr>\n",
       "      <th>max</th>\n",
       "      <td>45.000000</td>\n",
       "      <td>78.567014</td>\n",
       "      <td>4.000000</td>\n",
       "      <td>24.000000</td>\n",
       "      <td>30.000000</td>\n",
       "    </tr>\n",
       "  </tbody>\n",
       "</table>\n",
       "</div>"
      ],
      "text/plain": [
       "         Timepoint  Tumor Volume (mm3)  Metastatic Sites   Age_months  \\\n",
       "count  1880.000000         1880.000000       1880.000000  1880.000000   \n",
       "mean     19.606383           50.435293          1.025000    12.757979   \n",
       "std      14.094238            8.914197          1.139971     7.181998   \n",
       "min       0.000000           22.050126          0.000000     1.000000   \n",
       "25%       5.000000           45.000000          0.000000     7.000000   \n",
       "50%      20.000000           48.933454          1.000000    13.000000   \n",
       "75%      30.000000           56.324075          2.000000    19.250000   \n",
       "max      45.000000           78.567014          4.000000    24.000000   \n",
       "\n",
       "        Weight (g)  \n",
       "count  1880.000000  \n",
       "mean     25.660106  \n",
       "std       3.935064  \n",
       "min      15.000000  \n",
       "25%      25.000000  \n",
       "50%      27.000000  \n",
       "75%      29.000000  \n",
       "max      30.000000  "
      ]
     },
     "execution_count": 15,
     "metadata": {},
     "output_type": "execute_result"
    }
   ],
   "source": [
    "# Note to self there are 10 drugs total \n",
    "#List of Drugs\" Capomulin, Ceftamin, Infubinol, Ketapril, Naftisol, Placebo, Propriva, Ramicane, Stelasyn, Zoniferol\"\n",
    "# NOTE TO SELF USE FOR SAMPLE DATA FORMATING: https://gt.bootcampcontent.com/GT-Coding-Boot-Camp/gt-atl-data-pt-03-2020-u-c/blob/master/05-Matplotlib/2/Activities/01-Stu_PlotsReview/Solved/plot_drills.ipynb\n",
    "# This method is the most straighforward, creating multiple series and putting them all together at the end.\n",
    "Clean_Mouse_DF.describe()"
   ]
  },
  {
   "cell_type": "code",
   "execution_count": 16,
   "metadata": {},
   "outputs": [
    {
     "data": {
      "text/html": [
       "<div>\n",
       "<style scoped>\n",
       "    .dataframe tbody tr th:only-of-type {\n",
       "        vertical-align: middle;\n",
       "    }\n",
       "\n",
       "    .dataframe tbody tr th {\n",
       "        vertical-align: top;\n",
       "    }\n",
       "\n",
       "    .dataframe thead th {\n",
       "        text-align: right;\n",
       "    }\n",
       "</style>\n",
       "<table border=\"1\" class=\"dataframe\">\n",
       "  <thead>\n",
       "    <tr style=\"text-align: right;\">\n",
       "      <th></th>\n",
       "      <th>Mean Tumor Volume</th>\n",
       "      <th>Std. Dev. Tumor Volume</th>\n",
       "      <th>Median Tumor Volume</th>\n",
       "      <th>Variance Tumor Volume</th>\n",
       "      <th>SEM Tumor Volume</th>\n",
       "    </tr>\n",
       "    <tr>\n",
       "      <th>Drug Regimen</th>\n",
       "      <th></th>\n",
       "      <th></th>\n",
       "      <th></th>\n",
       "      <th></th>\n",
       "      <th></th>\n",
       "    </tr>\n",
       "  </thead>\n",
       "  <tbody>\n",
       "    <tr>\n",
       "      <th>Capomulin</th>\n",
       "      <td>40.675741</td>\n",
       "      <td>4.994774</td>\n",
       "      <td>41.557809</td>\n",
       "      <td>24.947764</td>\n",
       "      <td>0.329346</td>\n",
       "    </tr>\n",
       "    <tr>\n",
       "      <th>Ceftamin</th>\n",
       "      <td>52.591172</td>\n",
       "      <td>6.268188</td>\n",
       "      <td>51.776157</td>\n",
       "      <td>39.290177</td>\n",
       "      <td>0.469821</td>\n",
       "    </tr>\n",
       "    <tr>\n",
       "      <th>Infubinol</th>\n",
       "      <td>52.884795</td>\n",
       "      <td>6.567243</td>\n",
       "      <td>51.820584</td>\n",
       "      <td>43.128684</td>\n",
       "      <td>0.492236</td>\n",
       "    </tr>\n",
       "    <tr>\n",
       "      <th>Ketapril</th>\n",
       "      <td>55.235638</td>\n",
       "      <td>8.279709</td>\n",
       "      <td>53.698743</td>\n",
       "      <td>68.553577</td>\n",
       "      <td>0.603860</td>\n",
       "    </tr>\n",
       "    <tr>\n",
       "      <th>Naftisol</th>\n",
       "      <td>54.331565</td>\n",
       "      <td>8.134708</td>\n",
       "      <td>52.509285</td>\n",
       "      <td>66.173479</td>\n",
       "      <td>0.596466</td>\n",
       "    </tr>\n",
       "    <tr>\n",
       "      <th>Placebo</th>\n",
       "      <td>54.033581</td>\n",
       "      <td>7.821003</td>\n",
       "      <td>52.288934</td>\n",
       "      <td>61.168083</td>\n",
       "      <td>0.581331</td>\n",
       "    </tr>\n",
       "    <tr>\n",
       "      <th>Propriva</th>\n",
       "      <td>52.320930</td>\n",
       "      <td>6.622085</td>\n",
       "      <td>50.446266</td>\n",
       "      <td>43.852013</td>\n",
       "      <td>0.544332</td>\n",
       "    </tr>\n",
       "    <tr>\n",
       "      <th>Ramicane</th>\n",
       "      <td>40.216745</td>\n",
       "      <td>4.846308</td>\n",
       "      <td>40.673236</td>\n",
       "      <td>23.486704</td>\n",
       "      <td>0.320955</td>\n",
       "    </tr>\n",
       "    <tr>\n",
       "      <th>Stelasyn</th>\n",
       "      <td>54.233149</td>\n",
       "      <td>7.710419</td>\n",
       "      <td>52.431737</td>\n",
       "      <td>59.450562</td>\n",
       "      <td>0.573111</td>\n",
       "    </tr>\n",
       "    <tr>\n",
       "      <th>Zoniferol</th>\n",
       "      <td>53.236507</td>\n",
       "      <td>6.966589</td>\n",
       "      <td>51.818479</td>\n",
       "      <td>48.533355</td>\n",
       "      <td>0.516398</td>\n",
       "    </tr>\n",
       "  </tbody>\n",
       "</table>\n",
       "</div>"
      ],
      "text/plain": [
       "              Mean Tumor Volume  Std. Dev. Tumor Volume  Median Tumor Volume  \\\n",
       "Drug Regimen                                                                   \n",
       "Capomulin             40.675741                4.994774            41.557809   \n",
       "Ceftamin              52.591172                6.268188            51.776157   \n",
       "Infubinol             52.884795                6.567243            51.820584   \n",
       "Ketapril              55.235638                8.279709            53.698743   \n",
       "Naftisol              54.331565                8.134708            52.509285   \n",
       "Placebo               54.033581                7.821003            52.288934   \n",
       "Propriva              52.320930                6.622085            50.446266   \n",
       "Ramicane              40.216745                4.846308            40.673236   \n",
       "Stelasyn              54.233149                7.710419            52.431737   \n",
       "Zoniferol             53.236507                6.966589            51.818479   \n",
       "\n",
       "              Variance Tumor Volume  SEM Tumor Volume  \n",
       "Drug Regimen                                           \n",
       "Capomulin                 24.947764          0.329346  \n",
       "Ceftamin                  39.290177          0.469821  \n",
       "Infubinol                 43.128684          0.492236  \n",
       "Ketapril                  68.553577          0.603860  \n",
       "Naftisol                  66.173479          0.596466  \n",
       "Placebo                   61.168083          0.581331  \n",
       "Propriva                  43.852013          0.544332  \n",
       "Ramicane                  23.486704          0.320955  \n",
       "Stelasyn                  59.450562          0.573111  \n",
       "Zoniferol                 48.533355          0.516398  "
      ]
     },
     "execution_count": 16,
     "metadata": {},
     "output_type": "execute_result"
    }
   ],
   "source": [
    "# Generate a summary statistics table of mean, median, variance, standard deviation, and SEM of the tumor volume for each regimen \n",
    "# Get the mean for each tumor volume and the drug\n",
    "tumor_volume_stats = Clean_Mouse_DF[['Drug Regimen', 'Tumor Volume (mm3)']]\n",
    "\n",
    "tumor_df = tumor_volume_stats.groupby([\"Drug Regimen\"]).mean()\n",
    "tumor_df = tumor_df.rename(columns={\"Tumor Volume (mm3)\": \"Mean Tumor Volume\"})\n",
    "tumor_df['Std. Dev. Tumor Volume'] = tumor_volume_stats.groupby([\"Drug Regimen\"]).std()\n",
    "tumor_df['Median Tumor Volume'] = tumor_volume_stats.groupby([\"Drug Regimen\"]).median()\n",
    "tumor_df['Variance Tumor Volume'] = tumor_volume_stats.groupby([\"Drug Regimen\"]).var()\n",
    "tumor_df['SEM Tumor Volume'] = tumor_volume_stats.groupby([\"Drug Regimen\"]).sem()\n",
    "tumor_df"
   ]
  },
  {
   "cell_type": "markdown",
   "metadata": {},
   "source": [
    "## Bar Plots"
   ]
  },
  {
   "cell_type": "code",
   "execution_count": 17,
   "metadata": {},
   "outputs": [
    {
     "data": {
      "text/plain": [
       "Drug Regimen\n",
       "Capomulin    230\n",
       "Ceftamin     178\n",
       "Infubinol    178\n",
       "Ketapril     188\n",
       "Naftisol     186\n",
       "Placebo      181\n",
       "Propriva     148\n",
       "Ramicane     228\n",
       "Stelasyn     181\n",
       "Zoniferol    182\n",
       "Name: Mouse ID, dtype: int64"
      ]
     },
     "execution_count": 17,
     "metadata": {},
     "output_type": "execute_result"
    }
   ],
   "source": [
    "#Data Set for Bar Plot\n",
    "#drug regimen = [\"Capomulin\", \"Ceftamin\", \"Infubinol\", \"Ketapril\", \"Naftisol\", \"Placebo\", \"Propriva\", \"Ramicane\", \"Stelasyn\", \"Zoniferol\"]\n",
    "#mouse count: [230, 178, 178, 188, 186, 181, 148, 228, 181, 182]\n",
    "mice_per_treatment_df = Clean_Mouse_DF.groupby(['Drug Regimen']).count()['Mouse ID']\n",
    "mice_per_treatment_df"
   ]
  },
  {
   "cell_type": "code",
   "execution_count": 142,
   "metadata": {},
   "outputs": [
    {
     "data": {
      "image/png": "[encoded data removed]",
      "text/plain": [
       "<Figure size 720x360 with 1 Axes>"
      ]
     },
     "metadata": {
      "needs_background": "light"
     },
     "output_type": "display_data"
    },
    {
     "data": {
      "text/plain": [
       "<Figure size 432x288 with 0 Axes>"
      ]
     },
     "metadata": {},
     "output_type": "display_data"
    }
   ],
   "source": [
    "# Generate a bar plot showing the number of mice per time point for each treatment throughout the course of the study using pandas. \n",
    "# use pandas.DataFrame.plot()\n",
    "mice_per_treatment_df.plot(kind=\"bar\", figsize=(10,5))\n",
    "\n",
    "plt.title(\"Mouse Treatment Days\")\n",
    "plt.xlabel(\"Drug Regimen\")\n",
    "plt.ylabel(\"Timepoint\")\n",
    "\n",
    "plt.show()\n",
    "plt.tight_layout()"
   ]
  },
  {
   "cell_type": "code",
   "execution_count": 143,
   "metadata": {},
   "outputs": [
    {
     "data": {
      "image/png": "[encoded data removed]",
      "text/plain": [
       "<Figure size 432x288 with 1 Axes>"
      ]
     },
     "metadata": {
      "needs_background": "light"
     },
     "output_type": "display_data"
    }
   ],
   "source": [
    "# Generate a bar plot showing the number of mice per time point for each treatment throughout the course of the study using pyplot.\n",
    "#https://gt.bootcampcontent.com/GT-Coding-Boot-Camp/gt-atl-data-pt-03-2020-u-c/blob/master/05-Matplotlib/2/Activities/01-Stu_PlotsReview/Solved/plot_drills.ipynb\n",
    "#use matplotlib.pyplot()\n",
    "treatment = [\"Capomulin\", \"Ceftamin\", \"Infubinol\", \"Ketapril\", \"Naftisol\", \"Placebo\", \"Propriva\", \"Ramicane\", \"Stelasyn\", \"Zoniferol\"]\n",
    "mouse = [230, 178, 178, 188, 186, 181, 148, 228, 181, 182]\n",
    "\n",
    "treatment = np.arange(len(mice_per_treatment_df))\n",
    "tick_locations = []\n",
    "for x in treatment:\n",
    "    tick_locations.append(x)\n",
    "    \n",
    "plt.title(\"Mouse Treatment Days\")\n",
    "plt.xlabel(\"Drug Regimen\")\n",
    "plt.ylabel(\"Timepoint\")\n",
    "\n",
    "plt.xlim(-0.75, len(treatment)-0.25)\n",
    "plt.ylim(0, max(mouse) + 15)\n",
    "\n",
    "plt.bar(treatment, mouse, facecolor=\"blue\", alpha=0.75, align=\"center\")\n",
    "plt.xticks(tick_locations, [\"Capomulin\", \"Ceftamin\", \"Infubinol\", \"Ketapril\", \"Naftisol\", \"Placebo\", \"Propriva\", \"Ramicane\", \"Stelasyn\", \"Zoniferol\"], rotation='vertical')\n",
    "plt.show()"
   ]
  },
  {
   "cell_type": "markdown",
   "metadata": {},
   "source": [
    "## Pie Plots"
   ]
  },
  {
   "cell_type": "code",
   "execution_count": 144,
   "metadata": {},
   "outputs": [
    {
     "data": {
      "text/html": [
       "<div>\n",
       "<style scoped>\n",
       "    .dataframe tbody tr th:only-of-type {\n",
       "        vertical-align: middle;\n",
       "    }\n",
       "\n",
       "    .dataframe tbody tr th {\n",
       "        vertical-align: top;\n",
       "    }\n",
       "\n",
       "    .dataframe thead th {\n",
       "        text-align: right;\n",
       "    }\n",
       "</style>\n",
       "<table border=\"1\" class=\"dataframe\">\n",
       "  <thead>\n",
       "    <tr style=\"text-align: right;\">\n",
       "      <th></th>\n",
       "      <th>Total Gender Count</th>\n",
       "      <th>% of Gender</th>\n",
       "    </tr>\n",
       "    <tr>\n",
       "      <th>Sex</th>\n",
       "      <th></th>\n",
       "      <th></th>\n",
       "    </tr>\n",
       "  </thead>\n",
       "  <tbody>\n",
       "    <tr>\n",
       "      <th>Female</th>\n",
       "      <td>123</td>\n",
       "      <td>49.596774</td>\n",
       "    </tr>\n",
       "    <tr>\n",
       "      <th>Male</th>\n",
       "      <td>125</td>\n",
       "      <td>50.403226</td>\n",
       "    </tr>\n",
       "  </tbody>\n",
       "</table>\n",
       "</div>"
      ],
      "text/plain": [
       "        Total Gender Count  % of Gender\n",
       "Sex                                    \n",
       "Female                 123    49.596774\n",
       "Male                   125    50.403226"
      ]
     },
     "execution_count": 144,
     "metadata": {},
     "output_type": "execute_result"
    }
   ],
   "source": [
    "#Gender DataFrame for Pie plots by sex and mouse id - Pie plots need percentage*100\n",
    "#calculate the total male and females\n",
    "#calculate the percents for male vs female\n",
    "#Find the percent for the number of male vs female\n",
    "\n",
    "gender_pie = Clean_Mouse_DF.groupby(['Sex', 'Mouse ID']).size()\n",
    "gender_pie = pd.DataFrame(gender_pie.groupby(['Sex']).count())\n",
    "gender_pie.columns = ['Total Gender Count']\n",
    "gender_pie['% of Gender'] = (100*(gender_pie['Total Gender Count']/gender_pie['Total Gender Count'].sum()))\n",
    "gender_pie"
   ]
  },
  {
   "cell_type": "code",
   "execution_count": 149,
   "metadata": {},
   "outputs": [
    {
     "data": {
      "image/png": "[encoded data removed]",
      "text/plain": [
       "<Figure size 360x360 with 1 Axes>"
      ]
     },
     "metadata": {},
     "output_type": "display_data"
    }
   ],
   "source": [
    "# Generate a pie plot showing the distribution of female versus male mice using pandas\n",
    "# Generate a pie plot using both Pandas's `DataFrame.plot() \n",
    "#https://gt.bootcampcontent.com/GT-Coding-Boot-Camp/gt-atl-data-pt-03-2020-u-c/blob/master/05-Matplotlib/2/Activities/01-Stu_PlotsReview/Solved/plot_drills.ipynb\n",
    "labels = [\"Female\", \"Male\"]\n",
    "colors = [\"lightblue\", \"green\"]\n",
    "explode = (0.1, 0)\n",
    "\n",
    "#plt.title(\"Mice Distribution by Gender\")\n",
    "plot = gender_pie.plot.pie(y='Total Gender Count', figsize=(5, 5), labels=labels, colors=colors,\n",
    "        autopct=\"%1.1f%%\", shadow=True, startangle=140)\n",
    "plot.legend(loc=\"upper left\")\n",
    "plot.axis(\"equal\")\n",
    "plt.show()"
   ]
  },
  {
   "cell_type": "code",
   "execution_count": 150,
   "metadata": {},
   "outputs": [
    {
     "data": {
      "image/png": "[encoded data removed]",
      "text/plain": [
       "<Figure size 432x288 with 1 Axes>"
      ]
     },
     "metadata": {},
     "output_type": "display_data"
    }
   ],
   "source": [
    "# Generate a pie plot showing the distribution of female versus male mice using pyplot\n",
    "# Chart our data, give it a title, and label the axes\n",
    "labels = [\"Female\", \"Male\"]\n",
    "percent = [49.596774, 50.403226]\n",
    "colors = [\"lightblue\", \"green\"]\n",
    "explode = (0.1, 0)\n",
    "#plt.title(\"Mice Distribution by Gender\")\n",
    "plt.pie(percent, explode=explode, labels=labels, colors=colors,\n",
    "        autopct=\"%1.1f%%\", shadow=True, startangle=140)\n",
    "plt.legend(loc=\"best\")\n",
    "plt.ylabel(\"Total Gender Count\")\n",
    "plt.axis(\"equal\")\n",
    "plt.show()"
   ]
  },
  {
   "cell_type": "markdown",
   "metadata": {},
   "source": [
    "## Quartiles, Outliers and Boxplots"
   ]
  },
  {
   "cell_type": "code",
   "execution_count": 151,
   "metadata": {},
   "outputs": [
    {
     "data": {
      "text/html": [
       "<div>\n",
       "<style scoped>\n",
       "    .dataframe tbody tr th:only-of-type {\n",
       "        vertical-align: middle;\n",
       "    }\n",
       "\n",
       "    .dataframe tbody tr th {\n",
       "        vertical-align: top;\n",
       "    }\n",
       "\n",
       "    .dataframe thead th {\n",
       "        text-align: right;\n",
       "    }\n",
       "</style>\n",
       "<table border=\"1\" class=\"dataframe\">\n",
       "  <thead>\n",
       "    <tr style=\"text-align: right;\">\n",
       "      <th></th>\n",
       "      <th>Drug Regimen</th>\n",
       "      <th>Mouse ID</th>\n",
       "      <th>Tumor Volume (mm3)</th>\n",
       "    </tr>\n",
       "  </thead>\n",
       "  <tbody>\n",
       "    <tr>\n",
       "      <th>0</th>\n",
       "      <td>Capomulin</td>\n",
       "      <td>b128</td>\n",
       "      <td>45.000000</td>\n",
       "    </tr>\n",
       "    <tr>\n",
       "      <th>221</th>\n",
       "      <td>Ceftamin</td>\n",
       "      <td>q483</td>\n",
       "      <td>45.000000</td>\n",
       "    </tr>\n",
       "    <tr>\n",
       "      <th>220</th>\n",
       "      <td>Ceftamin</td>\n",
       "      <td>o287</td>\n",
       "      <td>45.000000</td>\n",
       "    </tr>\n",
       "    <tr>\n",
       "      <th>219</th>\n",
       "      <td>Ceftamin</td>\n",
       "      <td>b487</td>\n",
       "      <td>45.000000</td>\n",
       "    </tr>\n",
       "    <tr>\n",
       "      <th>218</th>\n",
       "      <td>Ceftamin</td>\n",
       "      <td>p438</td>\n",
       "      <td>45.000000</td>\n",
       "    </tr>\n",
       "    <tr>\n",
       "      <th>...</th>\n",
       "      <td>...</td>\n",
       "      <td>...</td>\n",
       "      <td>...</td>\n",
       "    </tr>\n",
       "    <tr>\n",
       "      <th>1802</th>\n",
       "      <td>Infubinol</td>\n",
       "      <td>e476</td>\n",
       "      <td>62.435404</td>\n",
       "    </tr>\n",
       "    <tr>\n",
       "      <th>1804</th>\n",
       "      <td>Infubinol</td>\n",
       "      <td>a203</td>\n",
       "      <td>67.973419</td>\n",
       "    </tr>\n",
       "    <tr>\n",
       "      <th>1806</th>\n",
       "      <td>Infubinol</td>\n",
       "      <td>f345</td>\n",
       "      <td>60.918767</td>\n",
       "    </tr>\n",
       "    <tr>\n",
       "      <th>1810</th>\n",
       "      <td>Ceftamin</td>\n",
       "      <td>l471</td>\n",
       "      <td>67.748662</td>\n",
       "    </tr>\n",
       "    <tr>\n",
       "      <th>1890</th>\n",
       "      <td>Ceftamin</td>\n",
       "      <td>p438</td>\n",
       "      <td>61.433892</td>\n",
       "    </tr>\n",
       "  </tbody>\n",
       "</table>\n",
       "<p>814 rows × 3 columns</p>\n",
       "</div>"
      ],
      "text/plain": [
       "     Drug Regimen Mouse ID  Tumor Volume (mm3)\n",
       "0       Capomulin     b128           45.000000\n",
       "221      Ceftamin     q483           45.000000\n",
       "220      Ceftamin     o287           45.000000\n",
       "219      Ceftamin     b487           45.000000\n",
       "218      Ceftamin     p438           45.000000\n",
       "...           ...      ...                 ...\n",
       "1802    Infubinol     e476           62.435404\n",
       "1804    Infubinol     a203           67.973419\n",
       "1806    Infubinol     f345           60.918767\n",
       "1810     Ceftamin     l471           67.748662\n",
       "1890     Ceftamin     p438           61.433892\n",
       "\n",
       "[814 rows x 3 columns]"
      ]
     },
     "execution_count": 151,
     "metadata": {},
     "output_type": "execute_result"
    }
   ],
   "source": [
    "# Calculate the final tumor volume of each mouse across four of the most promising treatment regimens. Calculate the IQR and quantitatively determine if there are any potential outliers. \n",
    "#Find the top 4 treatment regimens - Readme provides top (Capomulin, Ramicane, Infubinol, and Ceftamin)\n",
    "#https://cmdlinetips.com/2018/02/how-to-subset-pandas-dataframe-based-on-values-of-a-column/\n",
    "\n",
    "#Create Dataframe for the Top 4 Drug Regimen, Mouse ID and the final tumor volume \n",
    "#top_4_drugs_df = [\"Capomulin\", \"Ramicane\", \"Infubinol\", \"Ceftamin\"]\n",
    "top_4_drugs = Clean_Mouse_DF[Clean_Mouse_DF[\"Drug Regimen\"].isin([\"Capomulin\", \"Ramicane\", \"Infubinol\", \"Ceftamin\"])]\n",
    "top_4_drugs = top_4_drugs.sort_values([\"Timepoint\"], ascending=True)\n",
    "top_4_drugs_final = top_4_drugs[[\"Drug Regimen\", \"Mouse ID\", \"Tumor Volume (mm3)\"]]\n",
    "top_4_drugs_final = pd.DataFrame(top_4_drugs_final)\n",
    "top_4_drugs_final"
   ]
  },
  {
   "cell_type": "code",
   "execution_count": 152,
   "metadata": {},
   "outputs": [],
   "source": [
    "#Checking Data using the location of Tumor Volume\n",
    "#Capo_quartiles.loc[:,\"Tumor Volume (mm3)\"]"
   ]
  },
  {
   "cell_type": "code",
   "execution_count": 153,
   "metadata": {},
   "outputs": [],
   "source": [
    "#Checking Data for Capomulin using the describe \n",
    "#Clean_Mouse_DF[Clean_Mouse_DF[\"Drug Regimen\"]== \"Capomulin\"].describe()"
   ]
  },
  {
   "cell_type": "code",
   "execution_count": 154,
   "metadata": {},
   "outputs": [
    {
     "name": "stdout",
     "output_type": "stream",
     "text": [
      "The the median of Capomulin is:       Timepoint  Tumor Volume (mm3)  Metastatic Sites  Age_months  Weight (g)\n",
      "0.25       10.0           37.685933               0.0         7.0        17.0\n",
      "0.50       20.0           41.557809               0.0        16.5        20.5\n",
      "0.75       35.0           45.000000               1.0        20.0        22.0\n",
      "The lower quartile of Capomulin is: 37.685932865\n",
      "The upper quartile of Capomulin is: 45.0\n",
      "The interquartile range of Capomulin is: 7.314067135000002\n",
      "The lower outlier of Capomulin is: 26.714832162499995\n",
      "The higher outler range of Capomulin is: 55.9711007025\n"
     ]
    }
   ],
   "source": [
    "#Calculate the IQR and quantitatively determine if there are any potential outliers. \n",
    "# If the data is in a dataframe, we use pandas to give quartile calculations \n",
    "\n",
    "###### NOTE TO TA: I'm getting the sparing data even after checking my data above using .describe and checking the location of the dataframe. \n",
    "### TA Tom checked everyline with the key and he couldn't find the issue but my coding looks good and is accurate. ######\n",
    "Capo_quartiles = (Clean_Mouse_DF.loc[Clean_Mouse_DF[\"Drug Regimen\"]== \"Capomulin\"]).quantile([.25,.5,.75]) \n",
    "Capo_lowerq = Capo_quartiles.loc[.25,\"Tumor Volume (mm3)\"]\n",
    "Cap_upperq = Capo_quartiles.loc[.75,\"Tumor Volume (mm3)\"]\n",
    "Cap_iqr =  Cap_upperq - Capo_lowerq\n",
    "Caplowerbd = Capo_lowerq - (1.5*Cap_iqr)\n",
    "Capupperbd = Cap_upperq + (1.5*Cap_iqr)\n",
    "\n",
    "\n",
    "print(f\"The the median of Capomulin is: {Capo_quartiles}\")\n",
    "print(f\"The lower quartile of Capomulin is: {Capo_lowerq}\")\n",
    "print(f\"The upper quartile of Capomulin is: {Cap_upperq}\")\n",
    "print(f\"The interquartile range of Capomulin is: {Cap_iqr}\")\n",
    "print(f\"The lower outlier of Capomulin is: {Caplowerbd}\")\n",
    "print(f\"The higher outler range of Capomulin is: {Capupperbd}\")"
   ]
  },
  {
   "cell_type": "code",
   "execution_count": 155,
   "metadata": {},
   "outputs": [],
   "source": [
    "#Checking Data for Capomulin using the describe \n",
    "#Clean_Mouse_DF[Clean_Mouse_DF[\"Drug Regimen\"]== \"Ramicane\"].describe()"
   ]
  },
  {
   "cell_type": "code",
   "execution_count": 156,
   "metadata": {},
   "outputs": [
    {
     "name": "stdout",
     "output_type": "stream",
     "text": [
      "The the median of Ramicane is:       Timepoint  Tumor Volume (mm3)  Metastatic Sites  Age_months  Weight (g)\n",
      "0.25       10.0           36.674635               0.0         7.0        17.0\n",
      "0.50       20.0           40.673236               0.0         9.0        19.0\n",
      "0.75       35.0           45.000000               1.0        18.0        22.0\n",
      "The lower quartile of Ramicane is: 36.67463458499999\n",
      "The upper quartile of Ramicane is: 45.0\n",
      "The interquartile range of Ramicane is: 8.325365415000007\n",
      "The lower outlier of Ramicane is: 24.18658646249998\n",
      "The higher outler range of Ramicane is: 57.48804812250001\n"
     ]
    }
   ],
   "source": [
    "#Calculate the IQR and quantitatively for Ramicane determine if there are any potential outliers. \n",
    "Rami_quartiles = (Clean_Mouse_DF.loc[Clean_Mouse_DF[\"Drug Regimen\"]== \"Ramicane\"]).quantile([.25,.5,.75])\n",
    "Rami_lowerq = Rami_quartiles.loc[.25,\"Tumor Volume (mm3)\"]\n",
    "Rami_upperq = Rami_quartiles.loc[.75,\"Tumor Volume (mm3)\"]\n",
    "Rami_iqr =  Rami_upperq - Rami_lowerq\n",
    "Ramilowerbd = Rami_lowerq - (1.5*Rami_iqr)\n",
    "Ramiupperbd = Rami_upperq + (1.5*Rami_iqr)\n",
    "Ramiupperbd\n",
    "\n",
    "print(f\"The the median of Ramicane is: {Rami_quartiles}\")\n",
    "print(f\"The lower quartile of Ramicane is: {Rami_lowerq}\")\n",
    "print(f\"The upper quartile of Ramicane is: {Rami_upperq}\")\n",
    "print(f\"The interquartile range of Ramicane is: {Rami_iqr}\")\n",
    "print(f\"The lower outlier of Ramicane is: {Ramilowerbd}\")\n",
    "print(f\"The higher outler range of Ramicane is: {Ramiupperbd}\")"
   ]
  },
  {
   "cell_type": "code",
   "execution_count": 157,
   "metadata": {},
   "outputs": [
    {
     "name": "stdout",
     "output_type": "stream",
     "text": [
      "The the median of Ramicane is:       Timepoint  Tumor Volume (mm3)  Metastatic Sites  Age_months  Weight (g)\n",
      "0.25        5.0           47.312353               0.0         8.0        25.0\n",
      "0.50       15.0           51.820584               1.0        20.0        27.0\n",
      "0.75       30.0           57.314444               2.0        23.0        29.0\n",
      "The lower quartile of Ramicane is: 47.3123533\n",
      "The upper quartile of Ramicane is: 57.314443967500004\n",
      "The interquartile range of Ramicane is: 10.002090667500006\n",
      "The lower outlier of Ramicane is: 32.309217298749985\n",
      "The higher outler range of Ramicane is: 72.31757996875001\n"
     ]
    }
   ],
   "source": [
    "#Calculate the IQR and quantitatively for Infubinol determine if there are any potential outliers. \n",
    "Infub_quartiles = (Clean_Mouse_DF.loc[Clean_Mouse_DF[\"Drug Regimen\"]== \"Infubinol\"]).quantile([.25,.5,.75])\n",
    "Infub_lowerq = Infub_quartiles.loc[.25,\"Tumor Volume (mm3)\"]\n",
    "Infub_upperq = Infub_quartiles.loc[.75,\"Tumor Volume (mm3)\"]\n",
    "Infub_iqr =  Infub_upperq - Infub_lowerq\n",
    "Infublowerbd = Infub_lowerq - (1.5*Infub_iqr)\n",
    "Infubupperbd = Infub_upperq + (1.5*Infub_iqr)\n",
    "\n",
    "print(f\"The the median of Ramicane is: {Infub_quartiles}\")\n",
    "print(f\"The lower quartile of Ramicane is: {Infub_lowerq}\")\n",
    "print(f\"The upper quartile of Ramicane is: {Infub_upperq}\")\n",
    "print(f\"The interquartile range of Ramicane is: {Infub_iqr}\")\n",
    "print(f\"The lower outlier of Ramicane is: {Infublowerbd}\")\n",
    "print(f\"The higher outler range of Ramicane is: {Infubupperbd}\")"
   ]
  },
  {
   "cell_type": "code",
   "execution_count": 158,
   "metadata": {},
   "outputs": [
    {
     "name": "stdout",
     "output_type": "stream",
     "text": [
      "The the median of Ramicane is:       Timepoint  Tumor Volume (mm3)  Metastatic Sites  Age_months  Weight (g)\n",
      "0.25        5.0           47.208427               0.0         6.0        26.0\n",
      "0.50       20.0           51.776157               1.0        12.0        28.0\n",
      "0.75       30.0           56.801438               2.0        20.0        28.0\n",
      "The lower quartile of Ramicane is: 47.208427112500004\n",
      "The upper quartile of Ramicane is: 56.801437570000004\n",
      "The interquartile range of Ramicane is: 9.5930104575\n",
      "The lower outlier of Ramicane is: 32.818911426250004\n",
      "The higher outler range of Ramicane is: 71.19095325625\n"
     ]
    }
   ],
   "source": [
    "#Calculate the IQR and quantitatively for Ceftamin determine if there are any potential outliers. \n",
    "Ceft_quartiles = (Clean_Mouse_DF.loc[Clean_Mouse_DF[\"Drug Regimen\"]== \"Ceftamin\"]).quantile([.25,.5,.75])\n",
    "Ceft_lowerq = Ceft_quartiles.loc[.25,\"Tumor Volume (mm3)\"]\n",
    "Ceft_upperq = Ceft_quartiles.loc[.75,\"Tumor Volume (mm3)\"]\n",
    "Ceft_iqr =  Ceft_upperq - Ceft_lowerq\n",
    "Ceftlowerbd = Ceft_lowerq - (1.5*Ceft_iqr)\n",
    "Ceftupperbd = Ceft_upperq + (1.5*Ceft_iqr)\n",
    "\n",
    "print(f\"The the median of Ramicane is: {Ceft_quartiles}\")\n",
    "print(f\"The lower quartile of Ramicane is: {Ceft_lowerq}\")\n",
    "print(f\"The upper quartile of Ramicane is: {Ceft_upperq}\")\n",
    "print(f\"The interquartile range of Ramicane is: {Ceft_iqr}\")\n",
    "print(f\"The lower outlier of Ramicane is: {Ceftlowerbd}\")\n",
    "print(f\"The higher outler range of Ramicane is: {Ceftupperbd}\")"
   ]
  },
  {
   "cell_type": "code",
   "execution_count": 164,
   "metadata": {},
   "outputs": [],
   "source": [
    "# Generate a box plot of the final tumor volume of each mouse across four regimens of interest\n",
    "# https://matplotlib.org/gallery/pyplots/boxplot_demo_pyplot.html#sphx-glr-gallery-pyplots-boxplot-demo-pyplot-py) \n",
    "\n",
    "#Create Dataframe for the Top 4 Drug Regimen, Mouse ID and the final tumor volume \n",
    "top_4_drugs_boxplot_final = top_4_drugs_final.groupby([\"Drug Regimen\", \"Mouse ID\"]).last()[\"Tumor Volume (mm3)\"]\n",
    "top_4_drugs_boxplot_final\n",
    "\n",
    "top_4_drugs_boxplot_final_DF = pd.DataFrame(top_4_drugs_boxplot_final)\n",
    "top_4_drugs_boxplot_final_DF\n",
    "\n",
    "drugs_of_interest_list = [\"Capomulin\", \"Ramicane\", \"Infubinol\", \"Ceftamin\"]\n",
    "\n",
    "#Generate a box plot \n",
    "final_boxplot = top_4_drugs_boxplot_final_DF\n",
    "final_tumorvol_lists = final_boxplot.groupby('Drug Regimen')['Tumor Volume (mm3)'].apply(list)\n",
    "\n",
    "#timepoint_vs_tumorvol_final.boxplot(timepoint_vs_tumorvol_final, columns=[\"Capomulin\", \"Ramicane\", \"Infubinol\", \"Ceftamin\"], by='Tumor Volume (mm3)', return_type='axes')\n",
    "                                           \n",
    "\n",
    "#plt.title(\"Mouse L509 Capomulin Treatment\")\n",
    "#plt.xlabel(\"Drug Regimen\")\n",
    "#plt.ylabel(\"Final Tumor Volume (mm3)\")\n",
    "#plt.ylim(10, 80)                               \n",
    "plt.show()"
   ]
  },
  {
   "cell_type": "markdown",
   "metadata": {},
   "source": [
    "## Line and Scatter Plots"
   ]
  },
  {
   "cell_type": "code",
   "execution_count": 117,
   "metadata": {},
   "outputs": [
    {
     "data": {
      "text/html": [
       "<div>\n",
       "<style scoped>\n",
       "    .dataframe tbody tr th:only-of-type {\n",
       "        vertical-align: middle;\n",
       "    }\n",
       "\n",
       "    .dataframe tbody tr th {\n",
       "        vertical-align: top;\n",
       "    }\n",
       "\n",
       "    .dataframe thead th {\n",
       "        text-align: right;\n",
       "    }\n",
       "</style>\n",
       "<table border=\"1\" class=\"dataframe\">\n",
       "  <thead>\n",
       "    <tr style=\"text-align: right;\">\n",
       "      <th></th>\n",
       "      <th>Drug Regimen</th>\n",
       "      <th>Mouse ID</th>\n",
       "      <th>Timepoint</th>\n",
       "      <th>Weight (g)</th>\n",
       "      <th>Tumor Volume (mm3)</th>\n",
       "    </tr>\n",
       "  </thead>\n",
       "  <tbody>\n",
       "    <tr>\n",
       "      <th>231</th>\n",
       "      <td>Capomulin</td>\n",
       "      <td>l509</td>\n",
       "      <td>0</td>\n",
       "      <td>21</td>\n",
       "      <td>45.000000</td>\n",
       "    </tr>\n",
       "    <tr>\n",
       "      <th>253</th>\n",
       "      <td>Capomulin</td>\n",
       "      <td>l509</td>\n",
       "      <td>5</td>\n",
       "      <td>21</td>\n",
       "      <td>45.851193</td>\n",
       "    </tr>\n",
       "    <tr>\n",
       "      <th>539</th>\n",
       "      <td>Capomulin</td>\n",
       "      <td>l509</td>\n",
       "      <td>10</td>\n",
       "      <td>21</td>\n",
       "      <td>46.759074</td>\n",
       "    </tr>\n",
       "    <tr>\n",
       "      <th>881</th>\n",
       "      <td>Capomulin</td>\n",
       "      <td>l509</td>\n",
       "      <td>15</td>\n",
       "      <td>21</td>\n",
       "      <td>47.488599</td>\n",
       "    </tr>\n",
       "    <tr>\n",
       "      <th>982</th>\n",
       "      <td>Capomulin</td>\n",
       "      <td>l509</td>\n",
       "      <td>20</td>\n",
       "      <td>21</td>\n",
       "      <td>48.070452</td>\n",
       "    </tr>\n",
       "    <tr>\n",
       "      <th>1146</th>\n",
       "      <td>Capomulin</td>\n",
       "      <td>l509</td>\n",
       "      <td>25</td>\n",
       "      <td>21</td>\n",
       "      <td>44.006257</td>\n",
       "    </tr>\n",
       "    <tr>\n",
       "      <th>1414</th>\n",
       "      <td>Capomulin</td>\n",
       "      <td>l509</td>\n",
       "      <td>30</td>\n",
       "      <td>21</td>\n",
       "      <td>44.708055</td>\n",
       "    </tr>\n",
       "    <tr>\n",
       "      <th>1499</th>\n",
       "      <td>Capomulin</td>\n",
       "      <td>l509</td>\n",
       "      <td>35</td>\n",
       "      <td>21</td>\n",
       "      <td>40.207289</td>\n",
       "    </tr>\n",
       "    <tr>\n",
       "      <th>1723</th>\n",
       "      <td>Capomulin</td>\n",
       "      <td>l509</td>\n",
       "      <td>40</td>\n",
       "      <td>21</td>\n",
       "      <td>40.770813</td>\n",
       "    </tr>\n",
       "    <tr>\n",
       "      <th>1771</th>\n",
       "      <td>Capomulin</td>\n",
       "      <td>l509</td>\n",
       "      <td>45</td>\n",
       "      <td>21</td>\n",
       "      <td>41.483008</td>\n",
       "    </tr>\n",
       "  </tbody>\n",
       "</table>\n",
       "</div>"
      ],
      "text/plain": [
       "     Drug Regimen Mouse ID  Timepoint  Weight (g)  Tumor Volume (mm3)\n",
       "231     Capomulin     l509          0          21           45.000000\n",
       "253     Capomulin     l509          5          21           45.851193\n",
       "539     Capomulin     l509         10          21           46.759074\n",
       "881     Capomulin     l509         15          21           47.488599\n",
       "982     Capomulin     l509         20          21           48.070452\n",
       "1146    Capomulin     l509         25          21           44.006257\n",
       "1414    Capomulin     l509         30          21           44.708055\n",
       "1499    Capomulin     l509         35          21           40.207289\n",
       "1723    Capomulin     l509         40          21           40.770813\n",
       "1771    Capomulin     l509         45          21           41.483008"
      ]
     },
     "execution_count": 117,
     "metadata": {},
     "output_type": "execute_result"
    }
   ],
   "source": [
    "# Generate a line plot of time point versus tumor volume for a mouse treated with Capomulin\n",
    "#https://cmdlinetips.com/2018/02/how-to-subset-pandas-dataframe-based-on-values-of-a-column/\n",
    "#gapminder_years= gapminder[gapminder.year.isin(years)]\n",
    "\n",
    "#Created DataFrame for specific mouse R944 with Timepoint and Tumor Volume for Capomulin treatment\n",
    "timepoint_vs_tumorvol = Clean_Mouse_DF[Clean_Mouse_DF['Mouse ID']=='l509'] \n",
    "timepoint_vs_tumorvol_final = timepoint_vs_tumorvol[[\"Drug Regimen\", \"Mouse ID\", \"Timepoint\", \"Weight (g)\", \"Tumor Volume (mm3)\"]]\n",
    "timepoint_vs_tumorvol_final = pd.DataFrame(timepoint_vs_tumorvol_final)   \n",
    "timepoint_vs_tumorvol_final"
   ]
  },
  {
   "cell_type": "code",
   "execution_count": 140,
   "metadata": {},
   "outputs": [
    {
     "data": {
      "image/png": "[encoded data removed]",
      "text/plain": [
       "<Figure size 432x288 with 1 Axes>"
      ]
     },
     "metadata": {
      "needs_background": "light"
     },
     "output_type": "display_data"
    },
    {
     "data": {
      "image/png": "[encoded data removed]",
      "text/plain": [
       "<Figure size 432x288 with 1 Axes>"
      ]
     },
     "metadata": {
      "needs_background": "light"
     },
     "output_type": "display_data"
    }
   ],
   "source": [
    "# Generate a line plot of time point versus tumor volume for a mouse treated with Capomulin \n",
    "timepoint_vs_tumorvol_final = pd.DataFrame(timepoint_vs_tumorvol_final)   \n",
    "Capo_lineplot_data = timepoint_vs_tumorvol_final[[\"Timepoint\", \"Tumor Volume (mm3)\"]]\n",
    "Capo_lineplot_data\n",
    "\n",
    "# Plot the line chart\n",
    "plt.title(\"Mouse R944 Capomulin Treatment\", y=1.02, fontsize=10)\n",
    "plt.xlabel(\"Timepoint\", labelpad=15)\n",
    "plt.ylabel(\"Tumor Volume (mm3)\", labelpad=15)\n",
    "\n",
    "Capomulin_lineplot = Capo_lineplot_data.plot(kind='line', x='Timepoint', y ='Tumor Volume (mm3)', color=\"blue\", linewidth=1)\n",
    "plt.show()"
   ]
  },
  {
   "cell_type": "code",
   "execution_count": 133,
   "metadata": {},
   "outputs": [
    {
     "data": {
      "image/png": "[encoded data removed]",
      "text/plain": [
       "<Figure size 432x288 with 1 Axes>"
      ]
     },
     "metadata": {
      "needs_background": "light"
     },
     "output_type": "display_data"
    }
   ],
   "source": [
    "# Generate a scatter plot of mouse weight versus average tumor volume for the Capomulin regimen\n",
    "# calculate the mean of the mouse weight and the tumor value for capomulin reginmen (drug regimen)\n",
    "scatter_mw_vs_tmvol = Clean_Mouse_DF.loc[Clean_Mouse_DF['Drug Regimen']== 'Capomulin']\n",
    "scatter_mw_vs_tmvol_df = scatter_mw_vs_tmvol.groupby('Mouse ID').mean()\n",
    "scatter_mw_vs_tmvol_df_final = pd.DataFrame(scatter_mw_vs_tmvol_df)\n",
    "\n",
    "Capomulin_scat = scatter_mw_vs_tmvol_df.plot(kind='scatter', x='Weight (g)', y ='Tumor Volume (mm3)', facecolors=\"red\", edgecolors=\"black\", alpha=0.75)\n",
    "plt.show()"
   ]
  },
  {
   "cell_type": "markdown",
   "metadata": {},
   "source": [
    "## Correlation and Regression"
   ]
  },
  {
   "cell_type": "code",
   "execution_count": 129,
   "metadata": {},
   "outputs": [
    {
     "data": {
      "image/png": "[encoded data removed]",
      "text/plain": [
       "<Figure size 432x288 with 1 Axes>"
      ]
     },
     "metadata": {
      "needs_background": "light"
     },
     "output_type": "display_data"
    }
   ],
   "source": [
    "#Calculate the correlation coefficient and linear regression model between mouse weight and average tumor volume for the Capomulin treatment. \n",
    "#Plot the linear regression model on top of the previous scatter plot.\n",
    "# https://www.w3schools.com/python/python_ml_linear_regression.asp - used this to import linregress\n",
    "from matplotlib import pyplot as plt\n",
    "from scipy.stats import linregress\n",
    "\n",
    "x_values = scatter_mw_vs_tmvol_df_final[\"Weight (g)\"]\n",
    "y_values = scatter_mw_vs_tmvol_df_final[\"Tumor Volume (mm3)\"]\n",
    "(slope, intercept, rvalue, pvalue, stderr) = stats.linregress(x_values, y_values)\n",
    "regress_values = x_values * slope + intercept\n",
    "line_eq = \"y = \" + str(round(slope,2)) + \"x + \" + str(round(intercept,2))\n",
    "plt.scatter(x_values,y_values)\n",
    "plt.plot(x_values,regress_values,\"r-\")\n",
    "plt.annotate(line_eq,(6,10),fontsize=15,color=\"red\")\n",
    "plt.xlabel('Weight (g)')\n",
    "plt.ylabel('Tumor Volume (mm3)')\n",
    "plt.show()"
   ]
  },
  {
   "cell_type": "code",
   "execution_count": null,
   "metadata": {},
   "outputs": [],
   "source": [
    "***** Observations and Insights\n",
    "\n"
   ]
  }
 ],
 "metadata": {
  "anaconda-cloud": {},
  "kernelspec": {
   "display_name": "PythonData",
   "language": "python",
   "name": "pythondata"
  },
  "language_info": {
   "codemirror_mode": {
    "name": "ipython",
    "version": 3
   },
   "file_extension": ".py",
   "mimetype": "text/x-python",
   "name": "python",
   "nbconvert_exporter": "python",
   "pygments_lexer": "ipython3",
   "version": "3.6.10"
  }
 },
 "nbformat": 4,
 "nbformat_minor": 4
}
